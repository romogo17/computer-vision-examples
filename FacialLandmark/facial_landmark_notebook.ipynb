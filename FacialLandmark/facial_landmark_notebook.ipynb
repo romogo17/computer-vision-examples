{
 "cells": [
  {
   "cell_type": "markdown",
   "metadata": {},
   "source": [
    "# Facial Landmark Detection using OpenCV and Dlib"
   ]
  },
  {
   "cell_type": "markdown",
   "metadata": {},
   "source": [
    "Include de neccesary dynamic libraries and headers"
   ]
  },
  {
   "cell_type": "code",
   "execution_count": 1,
   "metadata": {},
   "outputs": [],
   "source": [
    "#include \"include_libraries.h\""
   ]
  },
  {
   "cell_type": "code",
   "execution_count": 2,
   "metadata": {},
   "outputs": [],
   "source": [
    "#include <string>\n",
    "#include <cstring>\n",
    "#include <fstream>\n",
    "\n",
    "#include <dlib/opencv.h>\n",
    "#include <dlib/image_processing.h>\n",
    "#include <dlib/image_processing/frontal_face_detector.h>\n",
    "#include <opencv2/opencv.hpp> \n",
    "\n",
    "using namespace std;\n",
    "using namespace cv;\n",
    "using namespace dlib;"
   ]
  },
  {
   "cell_type": "code",
   "execution_count": 3,
   "metadata": {},
   "outputs": [],
   "source": [
    "// Write landmarks to file\n",
    "void writeLandmarksToFile(dlib::full_object_detection &landmarks, const std::string &filename)\n",
    "{\n",
    "  // Open file\n",
    "\tstd::ofstream ofs;\n",
    "\tofs.open(filename);\n",
    "  \n",
    "  // Loop over all landmark points\n",
    "  for (int i = 0; i < landmarks.num_parts(); i++)\n",
    "\t{\n",
    "    // Print x and y coordinates to file\n",
    "\t\tofs << landmarks.part(i).x() << \" \" << landmarks.part(i).y() << std::endl;\n",
    "\n",
    "\t}\n",
    "  // Close file\n",
    "\tofs.close();\n",
    "}"
   ]
  },
  {
   "cell_type": "markdown",
   "metadata": {},
   "source": [
    "Create a function to draw the landmarks in the image"
   ]
  },
  {
   "cell_type": "code",
   "execution_count": 4,
   "metadata": {},
   "outputs": [],
   "source": [
    "void drawLandmarks(cv::Mat &im, dlib::full_object_detection landmarks )\n",
    "{\n",
    "  for(int i = 0; i < landmarks.num_parts(); i++)\n",
    "  {\n",
    "    int px = landmarks.part(i).x();\n",
    "    int py = landmarks.part(i).y();\n",
    "\n",
    "    char landmark_index[3];\n",
    "    sprintf(landmark_index, \"%d\", i+1);\n",
    "\n",
    "    circle(im, cv::Point(px, py), 1, cv::Scalar(0, 0, 255), 2, cv::LINE_AA);\n",
    "    putText(im, landmark_index, cv::Point(px, py), cv::FONT_HERSHEY_SIMPLEX, .3, cv::Scalar(255, 0, 0), 1);\n",
    "  }\n",
    "}"
   ]
  },
  {
   "cell_type": "markdown",
   "metadata": {},
   "source": [
    "Create the landmark detector and the face detector"
   ]
  },
  {
   "cell_type": "code",
   "execution_count": 5,
   "metadata": {},
   "outputs": [],
   "source": [
    "dlib::frontal_face_detector faceDetector = dlib::get_frontal_face_detector();"
   ]
  },
  {
   "cell_type": "code",
   "execution_count": 6,
   "metadata": {},
   "outputs": [],
   "source": [
    "dlib::shape_predictor landmarkDetector;"
   ]
  },
  {
   "cell_type": "markdown",
   "metadata": {},
   "source": [
    "After that, deserialize the shape predictor for face landmarks into the landmark detector"
   ]
  },
  {
   "cell_type": "code",
   "execution_count": 7,
   "metadata": {},
   "outputs": [],
   "source": [
    "dlib::deserialize(\"shape_predictor_68_face_landmarks.dat\") >> landmarkDetector;"
   ]
  },
  {
   "cell_type": "markdown",
   "metadata": {},
   "source": [
    "Read the image into a dlib image"
   ]
  },
  {
   "cell_type": "code",
   "execution_count": 8,
   "metadata": {},
   "outputs": [],
   "source": [
    "std::string imageFilename(\"images/girl.jpg\");\n",
    "cv::Mat im = cv::imread(imageFilename);\n",
    "\n",
    "std::string landmarksBasename(\"output\");\n",
    "\n",
    "dlib::cv_image<dlib::bgr_pixel> dlibIm(im);"
   ]
  },
  {
   "cell_type": "markdown",
   "metadata": {},
   "source": [
    "Detect the faces in the image"
   ]
  },
  {
   "cell_type": "code",
   "execution_count": 9,
   "metadata": {},
   "outputs": [
    {
     "name": "stdout",
     "output_type": "stream",
     "text": [
      "Number of faces detected: 1\n"
     ]
    }
   ],
   "source": [
    "std::vector<dlib::rectangle> faceRects = faceDetector(dlibIm);\n",
    "std::cout << \"Number of faces detected: \" << faceRects.size() << std::endl;"
   ]
  },
  {
   "cell_type": "markdown",
   "metadata": {},
   "source": [
    "Detect the face landmarks in each of the faces detected"
   ]
  },
  {
   "cell_type": "code",
   "execution_count": 10,
   "metadata": {},
   "outputs": [
    {
     "name": "stdout",
     "output_type": "stream",
     "text": [
      "Number of landmarks : 68\n",
      "Saving landmarks to output_0.txt\n"
     ]
    }
   ],
   "source": [
    "std::vector<dlib::full_object_detection> landmarksAll;\n",
    "for (int i = 0; i < faceRects.size(); i++)\n",
    "  {\n",
    "    // For every face rectangle, run landmarkDetector\n",
    "    dlib::full_object_detection landmarks;\n",
    "    \n",
    "    landmarks = landmarkDetector(dlibIm, faceRects[i]);\n",
    "    \n",
    "    // Print number of landmarks\n",
    "    if (i == 0) std::cout << \"Number of landmarks : \" << landmarks.num_parts() << std::endl;\n",
    "    \n",
    "    // Store landmarks for current face\n",
    "    landmarksAll.push_back(landmarks);\n",
    "    \n",
    "    // Draw landmarks on face\n",
    "    drawLandmarks(im, landmarks);\n",
    "\n",
    "    // Write landmarks to disk\n",
    "    std::stringstream landmarksFilename;\n",
    "    landmarksFilename << landmarksBasename <<  \"_\"  << i << \".txt\";\n",
    "    std::cout << \"Saving landmarks to \" << landmarksFilename.str() << std::endl;\n",
    "    writeLandmarksToFile(landmarks, landmarksFilename.str());\n",
    "    \n",
    "  }"
   ]
  },
  {
   "cell_type": "code",
   "execution_count": 11,
   "metadata": {},
   "outputs": [
    {
     "name": "stdout",
     "output_type": "stream",
     "text": [
      "Saving output image to images/girl_output.jpg\n"
     ]
    }
   ],
   "source": [
    "std::string outputFilename(\"images/girl_output.jpg\");\n",
    "std::cout << \"Saving output image to \" << outputFilename << std::endl;"
   ]
  },
  {
   "cell_type": "code",
   "execution_count": 12,
   "metadata": {},
   "outputs": [],
   "source": [
    "cv::imwrite(outputFilename, im);"
   ]
  },
  {
   "cell_type": "code",
   "execution_count": null,
   "metadata": {},
   "outputs": [],
   "source": []
  }
 ],
 "metadata": {
  "kernelspec": {
   "display_name": "C++11",
   "language": "C++11",
   "name": "xcpp11"
  },
  "language_info": {
   "codemirror_mode": "text/x-c++src",
   "file_extension": ".cpp",
   "mimetype": "text/x-c++src",
   "name": "c++",
   "version": "-std=c++11"
  }
 },
 "nbformat": 4,
 "nbformat_minor": 2
}
